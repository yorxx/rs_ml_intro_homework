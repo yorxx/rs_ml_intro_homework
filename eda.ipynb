{
 "cells": [
  {
   "cell_type": "code",
   "execution_count": 1,
   "metadata": {
    "collapsed": true
   },
   "outputs": [
    {
     "data": {
      "text/plain": "             Survived  Pclass                Name     Sex    Age  SibSp  \\\nPassengerId                                                               \n0                   1       1    Oconnor, Frankie    male    NaN      2   \n1                   0       3         Bryan, Drew    male    NaN      0   \n2                   0       3      Owens, Kenneth    male   0.33      1   \n3                   0       3       Kramer, James    male  19.00      0   \n4                   1       3       Bond, Michael    male  25.00      0   \n...               ...     ...                 ...     ...    ...    ...   \n99995               1       2         Bell, Adele  female  62.00      0   \n99996               0       2       Brown, Herman    male  66.00      0   \n99997               0       3  Childress, Charles    male  37.00      0   \n99998               0       3    Caughlin, Thomas    male  51.00      0   \n99999               0       3       Enciso, Tyler    male  55.00      0   \n\n             Parch     Ticket   Fare   Cabin Embarked  \nPassengerId                                            \n0                0     209245  27.14  C12239        S  \n1                0      27323  13.35     NaN        S  \n2                2  CA 457703  71.29     NaN        S  \n3                0   A. 10866  13.04     NaN        S  \n4                0     427635   7.76     NaN        S  \n...            ...        ...    ...     ...      ...  \n99995            0   PC 15008  14.86  D17243        C  \n99996            0      13273  11.15     NaN        S  \n99997            0        NaN   9.95     NaN        S  \n99998            1     458654  30.92     NaN        S  \n99999            0     458074  13.96     NaN        S  \n\n[100000 rows x 11 columns]",
      "text/html": "<div>\n<style scoped>\n    .dataframe tbody tr th:only-of-type {\n        vertical-align: middle;\n    }\n\n    .dataframe tbody tr th {\n        vertical-align: top;\n    }\n\n    .dataframe thead th {\n        text-align: right;\n    }\n</style>\n<table border=\"1\" class=\"dataframe\">\n  <thead>\n    <tr style=\"text-align: right;\">\n      <th></th>\n      <th>Survived</th>\n      <th>Pclass</th>\n      <th>Name</th>\n      <th>Sex</th>\n      <th>Age</th>\n      <th>SibSp</th>\n      <th>Parch</th>\n      <th>Ticket</th>\n      <th>Fare</th>\n      <th>Cabin</th>\n      <th>Embarked</th>\n    </tr>\n    <tr>\n      <th>PassengerId</th>\n      <th></th>\n      <th></th>\n      <th></th>\n      <th></th>\n      <th></th>\n      <th></th>\n      <th></th>\n      <th></th>\n      <th></th>\n      <th></th>\n      <th></th>\n    </tr>\n  </thead>\n  <tbody>\n    <tr>\n      <th>0</th>\n      <td>1</td>\n      <td>1</td>\n      <td>Oconnor, Frankie</td>\n      <td>male</td>\n      <td>NaN</td>\n      <td>2</td>\n      <td>0</td>\n      <td>209245</td>\n      <td>27.14</td>\n      <td>C12239</td>\n      <td>S</td>\n    </tr>\n    <tr>\n      <th>1</th>\n      <td>0</td>\n      <td>3</td>\n      <td>Bryan, Drew</td>\n      <td>male</td>\n      <td>NaN</td>\n      <td>0</td>\n      <td>0</td>\n      <td>27323</td>\n      <td>13.35</td>\n      <td>NaN</td>\n      <td>S</td>\n    </tr>\n    <tr>\n      <th>2</th>\n      <td>0</td>\n      <td>3</td>\n      <td>Owens, Kenneth</td>\n      <td>male</td>\n      <td>0.33</td>\n      <td>1</td>\n      <td>2</td>\n      <td>CA 457703</td>\n      <td>71.29</td>\n      <td>NaN</td>\n      <td>S</td>\n    </tr>\n    <tr>\n      <th>3</th>\n      <td>0</td>\n      <td>3</td>\n      <td>Kramer, James</td>\n      <td>male</td>\n      <td>19.00</td>\n      <td>0</td>\n      <td>0</td>\n      <td>A. 10866</td>\n      <td>13.04</td>\n      <td>NaN</td>\n      <td>S</td>\n    </tr>\n    <tr>\n      <th>4</th>\n      <td>1</td>\n      <td>3</td>\n      <td>Bond, Michael</td>\n      <td>male</td>\n      <td>25.00</td>\n      <td>0</td>\n      <td>0</td>\n      <td>427635</td>\n      <td>7.76</td>\n      <td>NaN</td>\n      <td>S</td>\n    </tr>\n    <tr>\n      <th>...</th>\n      <td>...</td>\n      <td>...</td>\n      <td>...</td>\n      <td>...</td>\n      <td>...</td>\n      <td>...</td>\n      <td>...</td>\n      <td>...</td>\n      <td>...</td>\n      <td>...</td>\n      <td>...</td>\n    </tr>\n    <tr>\n      <th>99995</th>\n      <td>1</td>\n      <td>2</td>\n      <td>Bell, Adele</td>\n      <td>female</td>\n      <td>62.00</td>\n      <td>0</td>\n      <td>0</td>\n      <td>PC 15008</td>\n      <td>14.86</td>\n      <td>D17243</td>\n      <td>C</td>\n    </tr>\n    <tr>\n      <th>99996</th>\n      <td>0</td>\n      <td>2</td>\n      <td>Brown, Herman</td>\n      <td>male</td>\n      <td>66.00</td>\n      <td>0</td>\n      <td>0</td>\n      <td>13273</td>\n      <td>11.15</td>\n      <td>NaN</td>\n      <td>S</td>\n    </tr>\n    <tr>\n      <th>99997</th>\n      <td>0</td>\n      <td>3</td>\n      <td>Childress, Charles</td>\n      <td>male</td>\n      <td>37.00</td>\n      <td>0</td>\n      <td>0</td>\n      <td>NaN</td>\n      <td>9.95</td>\n      <td>NaN</td>\n      <td>S</td>\n    </tr>\n    <tr>\n      <th>99998</th>\n      <td>0</td>\n      <td>3</td>\n      <td>Caughlin, Thomas</td>\n      <td>male</td>\n      <td>51.00</td>\n      <td>0</td>\n      <td>1</td>\n      <td>458654</td>\n      <td>30.92</td>\n      <td>NaN</td>\n      <td>S</td>\n    </tr>\n    <tr>\n      <th>99999</th>\n      <td>0</td>\n      <td>3</td>\n      <td>Enciso, Tyler</td>\n      <td>male</td>\n      <td>55.00</td>\n      <td>0</td>\n      <td>0</td>\n      <td>458074</td>\n      <td>13.96</td>\n      <td>NaN</td>\n      <td>S</td>\n    </tr>\n  </tbody>\n</table>\n<p>100000 rows × 11 columns</p>\n</div>"
     },
     "execution_count": 1,
     "metadata": {},
     "output_type": "execute_result"
    }
   ],
   "source": [
    "import pandas as pd\n",
    "import numpy as np\n",
    "\n",
    "path = \"train.csv\"\n",
    "data = pd.read_csv(path, index_col=\"PassengerId\")\n",
    "data"
   ]
  },
  {
   "cell_type": "code",
   "execution_count": 2,
   "outputs": [
    {
     "name": "stdout",
     "output_type": "stream",
     "text": [
      "Shape: (100000, 11)\n",
      "No. of duplicates: 0\n",
      "<class 'pandas.core.frame.DataFrame'>\n",
      "Int64Index: 100000 entries, 0 to 99999\n",
      "Data columns (total 11 columns):\n",
      " #   Column    Non-Null Count   Dtype  \n",
      "---  ------    --------------   -----  \n",
      " 0   Survived  100000 non-null  int64  \n",
      " 1   Pclass    100000 non-null  int64  \n",
      " 2   Name      100000 non-null  object \n",
      " 3   Sex       100000 non-null  object \n",
      " 4   Age       96708 non-null   float64\n",
      " 5   SibSp     100000 non-null  int64  \n",
      " 6   Parch     100000 non-null  int64  \n",
      " 7   Ticket    95377 non-null   object \n",
      " 8   Fare      99866 non-null   float64\n",
      " 9   Cabin     32134 non-null   object \n",
      " 10  Embarked  99750 non-null   object \n",
      "dtypes: float64(2), int64(4), object(5)\n",
      "memory usage: 9.2+ MB\n"
     ]
    },
    {
     "data": {
      "text/plain": "             Survived  Pclass              Name   Sex    Age  SibSp  Parch  \\\nPassengerId                                                                  \n0                   1       1  Oconnor, Frankie  male    NaN      2      0   \n1                   0       3       Bryan, Drew  male    NaN      0      0   \n2                   0       3    Owens, Kenneth  male   0.33      1      2   \n3                   0       3     Kramer, James  male  19.00      0      0   \n4                   1       3     Bond, Michael  male  25.00      0      0   \n\n                Ticket   Fare   Cabin Embarked  \nPassengerId                                     \n0               209245  27.14  C12239        S  \n1                27323  13.35     NaN        S  \n2            CA 457703  71.29     NaN        S  \n3             A. 10866  13.04     NaN        S  \n4               427635   7.76     NaN        S  ",
      "text/html": "<div>\n<style scoped>\n    .dataframe tbody tr th:only-of-type {\n        vertical-align: middle;\n    }\n\n    .dataframe tbody tr th {\n        vertical-align: top;\n    }\n\n    .dataframe thead th {\n        text-align: right;\n    }\n</style>\n<table border=\"1\" class=\"dataframe\">\n  <thead>\n    <tr style=\"text-align: right;\">\n      <th></th>\n      <th>Survived</th>\n      <th>Pclass</th>\n      <th>Name</th>\n      <th>Sex</th>\n      <th>Age</th>\n      <th>SibSp</th>\n      <th>Parch</th>\n      <th>Ticket</th>\n      <th>Fare</th>\n      <th>Cabin</th>\n      <th>Embarked</th>\n    </tr>\n    <tr>\n      <th>PassengerId</th>\n      <th></th>\n      <th></th>\n      <th></th>\n      <th></th>\n      <th></th>\n      <th></th>\n      <th></th>\n      <th></th>\n      <th></th>\n      <th></th>\n      <th></th>\n    </tr>\n  </thead>\n  <tbody>\n    <tr>\n      <th>0</th>\n      <td>1</td>\n      <td>1</td>\n      <td>Oconnor, Frankie</td>\n      <td>male</td>\n      <td>NaN</td>\n      <td>2</td>\n      <td>0</td>\n      <td>209245</td>\n      <td>27.14</td>\n      <td>C12239</td>\n      <td>S</td>\n    </tr>\n    <tr>\n      <th>1</th>\n      <td>0</td>\n      <td>3</td>\n      <td>Bryan, Drew</td>\n      <td>male</td>\n      <td>NaN</td>\n      <td>0</td>\n      <td>0</td>\n      <td>27323</td>\n      <td>13.35</td>\n      <td>NaN</td>\n      <td>S</td>\n    </tr>\n    <tr>\n      <th>2</th>\n      <td>0</td>\n      <td>3</td>\n      <td>Owens, Kenneth</td>\n      <td>male</td>\n      <td>0.33</td>\n      <td>1</td>\n      <td>2</td>\n      <td>CA 457703</td>\n      <td>71.29</td>\n      <td>NaN</td>\n      <td>S</td>\n    </tr>\n    <tr>\n      <th>3</th>\n      <td>0</td>\n      <td>3</td>\n      <td>Kramer, James</td>\n      <td>male</td>\n      <td>19.00</td>\n      <td>0</td>\n      <td>0</td>\n      <td>A. 10866</td>\n      <td>13.04</td>\n      <td>NaN</td>\n      <td>S</td>\n    </tr>\n    <tr>\n      <th>4</th>\n      <td>1</td>\n      <td>3</td>\n      <td>Bond, Michael</td>\n      <td>male</td>\n      <td>25.00</td>\n      <td>0</td>\n      <td>0</td>\n      <td>427635</td>\n      <td>7.76</td>\n      <td>NaN</td>\n      <td>S</td>\n    </tr>\n  </tbody>\n</table>\n</div>"
     },
     "execution_count": 2,
     "metadata": {},
     "output_type": "execute_result"
    }
   ],
   "source": [
    "shape = data.shape\n",
    "print(f\"Shape: {shape}\")\n",
    "data.drop_duplicates(inplace=True)\n",
    "print(f\"No. of duplicates: {data.shape[0] - shape[0]}\")\n",
    "data.info()\n",
    "data.head()\n",
    "# Only ~30% rows have all columns present, so will drop NaNs only when it's required"
   ],
   "metadata": {
    "collapsed": false,
    "pycharm": {
     "name": "#%%\n"
    }
   }
  },
  {
   "cell_type": "code",
   "execution_count": 3,
   "outputs": [
    {
     "data": {
      "text/plain": "            Survived         Pclass           Age          SibSp  \\\ncount  100000.000000  100000.000000  96708.000000  100000.000000   \nmean        0.427740       2.106910     38.355472       0.397690   \nstd         0.494753       0.837727     18.313556       0.862566   \nmin         0.000000       1.000000      0.080000       0.000000   \n25%         0.000000       1.000000     25.000000       0.000000   \n50%         0.000000       2.000000     39.000000       0.000000   \n75%         1.000000       3.000000     53.000000       1.000000   \nmax         1.000000       3.000000     87.000000       8.000000   \n\n               Parch         Fare  \ncount  100000.000000  99866.00000  \nmean        0.454560     43.92933  \nstd         0.950076     69.58882  \nmin         0.000000      0.68000  \n25%         0.000000     10.04000  \n50%         0.000000     24.46000  \n75%         1.000000     33.50000  \nmax         9.000000    744.66000  ",
      "text/html": "<div>\n<style scoped>\n    .dataframe tbody tr th:only-of-type {\n        vertical-align: middle;\n    }\n\n    .dataframe tbody tr th {\n        vertical-align: top;\n    }\n\n    .dataframe thead th {\n        text-align: right;\n    }\n</style>\n<table border=\"1\" class=\"dataframe\">\n  <thead>\n    <tr style=\"text-align: right;\">\n      <th></th>\n      <th>Survived</th>\n      <th>Pclass</th>\n      <th>Age</th>\n      <th>SibSp</th>\n      <th>Parch</th>\n      <th>Fare</th>\n    </tr>\n  </thead>\n  <tbody>\n    <tr>\n      <th>count</th>\n      <td>100000.000000</td>\n      <td>100000.000000</td>\n      <td>96708.000000</td>\n      <td>100000.000000</td>\n      <td>100000.000000</td>\n      <td>99866.00000</td>\n    </tr>\n    <tr>\n      <th>mean</th>\n      <td>0.427740</td>\n      <td>2.106910</td>\n      <td>38.355472</td>\n      <td>0.397690</td>\n      <td>0.454560</td>\n      <td>43.92933</td>\n    </tr>\n    <tr>\n      <th>std</th>\n      <td>0.494753</td>\n      <td>0.837727</td>\n      <td>18.313556</td>\n      <td>0.862566</td>\n      <td>0.950076</td>\n      <td>69.58882</td>\n    </tr>\n    <tr>\n      <th>min</th>\n      <td>0.000000</td>\n      <td>1.000000</td>\n      <td>0.080000</td>\n      <td>0.000000</td>\n      <td>0.000000</td>\n      <td>0.68000</td>\n    </tr>\n    <tr>\n      <th>25%</th>\n      <td>0.000000</td>\n      <td>1.000000</td>\n      <td>25.000000</td>\n      <td>0.000000</td>\n      <td>0.000000</td>\n      <td>10.04000</td>\n    </tr>\n    <tr>\n      <th>50%</th>\n      <td>0.000000</td>\n      <td>2.000000</td>\n      <td>39.000000</td>\n      <td>0.000000</td>\n      <td>0.000000</td>\n      <td>24.46000</td>\n    </tr>\n    <tr>\n      <th>75%</th>\n      <td>1.000000</td>\n      <td>3.000000</td>\n      <td>53.000000</td>\n      <td>1.000000</td>\n      <td>1.000000</td>\n      <td>33.50000</td>\n    </tr>\n    <tr>\n      <th>max</th>\n      <td>1.000000</td>\n      <td>3.000000</td>\n      <td>87.000000</td>\n      <td>8.000000</td>\n      <td>9.000000</td>\n      <td>744.66000</td>\n    </tr>\n  </tbody>\n</table>\n</div>"
     },
     "execution_count": 3,
     "metadata": {},
     "output_type": "execute_result"
    }
   ],
   "source": [
    "data.describe()"
   ],
   "metadata": {
    "collapsed": false,
    "pycharm": {
     "name": "#%%\n"
    }
   }
  },
  {
   "cell_type": "code",
   "execution_count": 4,
   "outputs": [],
   "source": [
    "data['Sex_bin'] = data['Sex'] == 'male'"
   ],
   "metadata": {
    "collapsed": false,
    "pycharm": {
     "name": "#%%\n"
    }
   }
  },
  {
   "cell_type": "code",
   "execution_count": 5,
   "outputs": [
    {
     "data": {
      "text/plain": "<Figure size 432x288 with 2 Axes>",
      "image/png": "[encoded data removed]"
     },
     "metadata": {
      "needs_background": "light"
     },
     "output_type": "display_data"
    }
   ],
   "source": [
    "import seaborn as sns\n",
    "import matplotlib\n",
    "import matplotlib.pyplot as plt\n",
    "%matplotlib inline\n",
    "sns.set_style('darkgrid')\n",
    "matplotlib.rcParams['font.size'] = 14\n",
    "\n",
    "matplotlib.rcParams['figure.facecolor'] = '#00000000'\n",
    "sns.heatmap(data.corr());"
   ],
   "metadata": {
    "collapsed": false,
    "pycharm": {
     "name": "#%%\n"
    }
   }
  },
  {
   "cell_type": "code",
   "execution_count": 6,
   "outputs": [
    {
     "data": {
      "text/plain": "             Survived  Pclass              Name   Sex    Age  SibSp  Parch  \\\nPassengerId                                                                  \n0                   1       1  Oconnor, Frankie  male    NaN      2      0   \n1                   0       3       Bryan, Drew  male    NaN      0      0   \n2                   0       3    Owens, Kenneth  male   0.33      1      2   \n3                   0       3     Kramer, James  male  19.00      0      0   \n4                   1       3     Bond, Michael  male  25.00      0      0   \n\n                Ticket   Fare   Cabin Embarked  Sex_bin Deck  Family_Size  \\\nPassengerId                                                                 \n0               209245  27.14  C12239        S     True    C            2   \n1                27323  13.35     NaN        S     True  NaN            0   \n2            CA 457703  71.29     NaN        S     True  NaN            3   \n3             A. 10866  13.04     NaN        S     True  NaN            0   \n4               427635   7.76     NaN        S     True  NaN            0   \n\n             Age*Class  Fare_Per_Person  \nPassengerId                              \n0                  NaN         9.046667  \n1                  NaN        13.350000  \n2                 0.99        17.822500  \n3                57.00        13.040000  \n4                75.00         7.760000  ",
      "text/html": "<div>\n<style scoped>\n    .dataframe tbody tr th:only-of-type {\n        vertical-align: middle;\n    }\n\n    .dataframe tbody tr th {\n        vertical-align: top;\n    }\n\n    .dataframe thead th {\n        text-align: right;\n    }\n</style>\n<table border=\"1\" class=\"dataframe\">\n  <thead>\n    <tr style=\"text-align: right;\">\n      <th></th>\n      <th>Survived</th>\n      <th>Pclass</th>\n      <th>Name</th>\n      <th>Sex</th>\n      <th>Age</th>\n      <th>SibSp</th>\n      <th>Parch</th>\n      <th>Ticket</th>\n      <th>Fare</th>\n      <th>Cabin</th>\n      <th>Embarked</th>\n      <th>Sex_bin</th>\n      <th>Deck</th>\n      <th>Family_Size</th>\n      <th>Age*Class</th>\n      <th>Fare_Per_Person</th>\n    </tr>\n    <tr>\n      <th>PassengerId</th>\n      <th></th>\n      <th></th>\n      <th></th>\n      <th></th>\n      <th></th>\n      <th></th>\n      <th></th>\n      <th></th>\n      <th></th>\n      <th></th>\n      <th></th>\n      <th></th>\n      <th></th>\n      <th></th>\n      <th></th>\n      <th></th>\n    </tr>\n  </thead>\n  <tbody>\n    <tr>\n      <th>0</th>\n      <td>1</td>\n      <td>1</td>\n      <td>Oconnor, Frankie</td>\n      <td>male</td>\n      <td>NaN</td>\n      <td>2</td>\n      <td>0</td>\n      <td>209245</td>\n      <td>27.14</td>\n      <td>C12239</td>\n      <td>S</td>\n      <td>True</td>\n      <td>C</td>\n      <td>2</td>\n      <td>NaN</td>\n      <td>9.046667</td>\n    </tr>\n    <tr>\n      <th>1</th>\n      <td>0</td>\n      <td>3</td>\n      <td>Bryan, Drew</td>\n      <td>male</td>\n      <td>NaN</td>\n      <td>0</td>\n      <td>0</td>\n      <td>27323</td>\n      <td>13.35</td>\n      <td>NaN</td>\n      <td>S</td>\n      <td>True</td>\n      <td>NaN</td>\n      <td>0</td>\n      <td>NaN</td>\n      <td>13.350000</td>\n    </tr>\n    <tr>\n      <th>2</th>\n      <td>0</td>\n      <td>3</td>\n      <td>Owens, Kenneth</td>\n      <td>male</td>\n      <td>0.33</td>\n      <td>1</td>\n      <td>2</td>\n      <td>CA 457703</td>\n      <td>71.29</td>\n      <td>NaN</td>\n      <td>S</td>\n      <td>True</td>\n      <td>NaN</td>\n      <td>3</td>\n      <td>0.99</td>\n      <td>17.822500</td>\n    </tr>\n    <tr>\n      <th>3</th>\n      <td>0</td>\n      <td>3</td>\n      <td>Kramer, James</td>\n      <td>male</td>\n      <td>19.00</td>\n      <td>0</td>\n      <td>0</td>\n      <td>A. 10866</td>\n      <td>13.04</td>\n      <td>NaN</td>\n      <td>S</td>\n      <td>True</td>\n      <td>NaN</td>\n      <td>0</td>\n      <td>57.00</td>\n      <td>13.040000</td>\n    </tr>\n    <tr>\n      <th>4</th>\n      <td>1</td>\n      <td>3</td>\n      <td>Bond, Michael</td>\n      <td>male</td>\n      <td>25.00</td>\n      <td>0</td>\n      <td>0</td>\n      <td>427635</td>\n      <td>7.76</td>\n      <td>NaN</td>\n      <td>S</td>\n      <td>True</td>\n      <td>NaN</td>\n      <td>0</td>\n      <td>75.00</td>\n      <td>7.760000</td>\n    </tr>\n  </tbody>\n</table>\n</div>"
     },
     "execution_count": 6,
     "metadata": {},
     "output_type": "execute_result"
    }
   ],
   "source": [
    "# Feature Engineering like in https://triangleinequality.wordpress.com/2013/09/08/basic-feature-engineering-with-the-titanic-data/\n",
    "data['Deck']=data['Cabin'].map(lambda x: str(x)[0] if str(x) != 'nan' else np.NAN)\n",
    "data['Family_Size']=data['SibSp']+data['Parch']\n",
    "data['Age*Class']=data['Age']*data['Pclass']\n",
    "data['Fare_Per_Person']=data['Fare']/(data['Family_Size']+1)\n",
    "data.head()"
   ],
   "metadata": {
    "collapsed": false,
    "pycharm": {
     "name": "#%%\n"
    }
   }
  },
  {
   "cell_type": "code",
   "execution_count": 7,
   "outputs": [
    {
     "name": "stderr",
     "output_type": "stream",
     "text": [
      "C:\\Python39\\lib\\site-packages\\seaborn\\_decorators.py:36: FutureWarning: Pass the following variables as keyword args: x, y. From version 0.12, the only valid positional argument will be `data`, and passing other arguments without an explicit keyword will result in an error or misinterpretation.\n",
      "  warnings.warn(\n"
     ]
    },
    {
     "data": {
      "text/plain": "Text(0, 0.5, 'Survived, %')"
     },
     "execution_count": 7,
     "metadata": {},
     "output_type": "execute_result"
    },
    {
     "data": {
      "text/plain": "<Figure size 1440x360 with 1 Axes>",
      "image/png": "[encoded data removed]"
     },
     "metadata": {
      "needs_background": "light"
     },
     "output_type": "display_data"
    }
   ],
   "source": [
    "matplotlib.rcParams['figure.figsize'] = (20, 5)\n",
    "survivors = data[data['Survived'] == 1]\n",
    "\n",
    "# All rows have sex column value, so no need to drop anything\n",
    "sex_survivors = survivors.groupby('Sex').size().reset_index(name='Count')\n",
    "sex_overall = data.groupby('Sex').size().reset_index(name='Count')\n",
    "sex_survivors['Percentage'] = (sex_survivors['Count'] / sex_overall['Count']) * 100\n",
    "\n",
    "sns.barplot('Sex','Percentage',   data = sex_survivors)\n",
    "plt.title('Survival rate based on sex')\n",
    "plt.ylabel('Survived, %')"
   ],
   "metadata": {
    "collapsed": false,
    "pycharm": {
     "name": "#%%\n"
    }
   }
  },
  {
   "cell_type": "code",
   "execution_count": null,
   "outputs": [
    {
     "name": "stderr",
     "output_type": "stream",
     "text": [
      "C:\\Users\\Yor\\AppData\\Local\\Temp\\ipykernel_19656\\1927637436.py:2: SettingWithCopyWarning: \n",
      "A value is trying to be set on a copy of a slice from a DataFrame.\n",
      "Try using .loc[row_indexer,col_indexer] = value instead\n",
      "\n",
      "See the caveats in the documentation: https://pandas.pydata.org/pandas-docs/stable/user_guide/indexing.html#returning-a-view-versus-a-copy\n",
      "  age_data['Age'] = age_data['Age'].astype('int64')\n",
      "C:\\Python39\\lib\\site-packages\\seaborn\\_decorators.py:36: FutureWarning: Pass the following variables as keyword args: x, y. From version 0.12, the only valid positional argument will be `data`, and passing other arguments without an explicit keyword will result in an error or misinterpretation.\n",
      "  warnings.warn(\n"
     ]
    },
    {
     "data": {
      "text/plain": "(array([ 0,  1,  2,  3,  4,  5,  6,  7,  8,  9, 10, 11, 12, 13, 14, 15, 16,\n        17, 18, 19, 20, 21, 22, 23, 24, 25, 26, 27, 28, 29, 30, 31, 32, 33,\n        34, 35, 36, 37, 38, 39, 40, 41, 42, 43, 44, 45, 46, 47, 48, 49, 50,\n        51, 52, 53, 54, 55, 56, 57, 58, 59, 60, 61, 62, 63, 64, 65, 66, 67,\n        68, 69, 70, 71, 72, 73, 74, 75, 76, 77, 78, 79, 80, 81, 82, 83, 84,\n        85, 86, 87]),\n [Text(0, 0, '0'),\n  Text(1, 0, '1'),\n  Text(2, 0, '2'),\n  Text(3, 0, '3'),\n  Text(4, 0, '4'),\n  Text(5, 0, '5'),\n  Text(6, 0, '6'),\n  Text(7, 0, '7'),\n  Text(8, 0, '8'),\n  Text(9, 0, '9'),\n  Text(10, 0, '10'),\n  Text(11, 0, '11'),\n  Text(12, 0, '12'),\n  Text(13, 0, '13'),\n  Text(14, 0, '14'),\n  Text(15, 0, '15'),\n  Text(16, 0, '16'),\n  Text(17, 0, '17'),\n  Text(18, 0, '18'),\n  Text(19, 0, '19'),\n  Text(20, 0, '20'),\n  Text(21, 0, '21'),\n  Text(22, 0, '22'),\n  Text(23, 0, '23'),\n  Text(24, 0, '24'),\n  Text(25, 0, '25'),\n  Text(26, 0, '26'),\n  Text(27, 0, '27'),\n  Text(28, 0, '28'),\n  Text(29, 0, '29'),\n  Text(30, 0, '30'),\n  Text(31, 0, '31'),\n  Text(32, 0, '32'),\n  Text(33, 0, '33'),\n  Text(34, 0, '34'),\n  Text(35, 0, '35'),\n  Text(36, 0, '36'),\n  Text(37, 0, '37'),\n  Text(38, 0, '38'),\n  Text(39, 0, '39'),\n  Text(40, 0, '40'),\n  Text(41, 0, '41'),\n  Text(42, 0, '42'),\n  Text(43, 0, '43'),\n  Text(44, 0, '44'),\n  Text(45, 0, '45'),\n  Text(46, 0, '46'),\n  Text(47, 0, '47'),\n  Text(48, 0, '48'),\n  Text(49, 0, '49'),\n  Text(50, 0, '50'),\n  Text(51, 0, '51'),\n  Text(52, 0, '52'),\n  Text(53, 0, '53'),\n  Text(54, 0, '54'),\n  Text(55, 0, '55'),\n  Text(56, 0, '56'),\n  Text(57, 0, '57'),\n  Text(58, 0, '58'),\n  Text(59, 0, '59'),\n  Text(60, 0, '60'),\n  Text(61, 0, '61'),\n  Text(62, 0, '62'),\n  Text(63, 0, '63'),\n  Text(64, 0, '64'),\n  Text(65, 0, '65'),\n  Text(66, 0, '66'),\n  Text(67, 0, '67'),\n  Text(68, 0, '68'),\n  Text(69, 0, '69'),\n  Text(70, 0, '70'),\n  Text(71, 0, '71'),\n  Text(72, 0, '72'),\n  Text(73, 0, '73'),\n  Text(74, 0, '74'),\n  Text(75, 0, '75'),\n  Text(76, 0, '76'),\n  Text(77, 0, '77'),\n  Text(78, 0, '78'),\n  Text(79, 0, '79'),\n  Text(80, 0, '80'),\n  Text(81, 0, '81'),\n  Text(82, 0, '82'),\n  Text(83, 0, '83'),\n  Text(84, 0, '84'),\n  Text(85, 0, '85'),\n  Text(86, 0, '86'),\n  Text(87, 0, '87')])"
     },
     "execution_count": 8,
     "metadata": {},
     "output_type": "execute_result"
    }
   ],
   "source": [
    "age_data = data[data['Age'].notnull()]\n",
    "age_data['Age'] = age_data['Age'].astype('int64')\n",
    "\n",
    "age_data_groups = age_data.groupby('Age').size().reset_index(name='Count')\n",
    "age_survivors_groups = age_data[age_data['Survived'] == 1]\n",
    "age_survivors_groups = age_survivors_groups.groupby('Age').size().reset_index(name='Count')\n",
    "age_survivors_groups['Percentage'] = (age_survivors_groups['Count'] / age_data_groups['Count']) * 100\n",
    "\n",
    "sns.barplot('Age','Percentage',   data = age_survivors_groups)\n",
    "plt.title('Survival rate based on age')\n",
    "plt.ylabel('Survived, %')\n",
    "plt.xticks(rotation=-90)"
   ],
   "metadata": {
    "collapsed": false,
    "pycharm": {
     "name": "#%%\n",
     "is_executing": true
    }
   }
  },
  {
   "cell_type": "code",
   "execution_count": null,
   "outputs": [],
   "source": [
    "deck_data = data[data['Deck'].notnull()]\n",
    "\n",
    "deck_data_groups = deck_data.groupby('Deck').size().reset_index(name='Count')\n",
    "deck_survivors_groups = deck_data[deck_data['Survived'] == 1]\n",
    "deck_survivors_groups = deck_survivors_groups.groupby('Deck').size().reset_index(name='Count')\n",
    "deck_survivors_groups['Percentage'] = (deck_survivors_groups['Count'] / deck_data_groups['Count']) * 100\n",
    "\n",
    "sns.barplot('Deck','Percentage',   data = deck_survivors_groups)\n",
    "plt.title('Survival rate based on deck')\n",
    "plt.ylabel('Survived, %')\n"
   ],
   "metadata": {
    "collapsed": false,
    "pycharm": {
     "name": "#%%\n",
     "is_executing": true
    }
   }
  },
  {
   "cell_type": "code",
   "execution_count": null,
   "outputs": [],
   "source": [
    "class_data = data[data['Pclass'].notnull()]\n",
    "\n",
    "class_data_groups = class_data.groupby('Pclass').size().reset_index(name='Count')\n",
    "class_survivors_groups = class_data[class_data['Survived'] == 1]\n",
    "class_survivors_groups = class_survivors_groups.groupby('Pclass').size().reset_index(name='Count')\n",
    "\n",
    "class_survivors_groups['Percentage'] = (class_survivors_groups['Count'] / class_data_groups['Count']) * 100\n",
    "\n",
    "sns.barplot('Pclass','Percentage',   data = class_survivors_groups)\n",
    "plt.title('Survival rate based on class')\n",
    "plt.ylabel('Survived, %')"
   ],
   "metadata": {
    "collapsed": false,
    "pycharm": {
     "name": "#%%\n",
     "is_executing": true
    }
   }
  },
  {
   "cell_type": "code",
   "execution_count": null,
   "outputs": [],
   "source": [
    "family_data = data[data['Family_Size'].notnull()]\n",
    "\n",
    "family_data_groups = family_data.groupby('Family_Size').size().reset_index(name='Count')\n",
    "family_survivors_groups = family_data[class_data['Survived'] == 1]\n",
    "family_survivors_groups = family_survivors_groups.groupby('Family_Size').size().reset_index(name='Count')\n",
    "\n",
    "family_survivors_groups['Percentage'] = (family_survivors_groups['Count'] / family_data_groups['Count']) * 100\n",
    "\n",
    "sns.barplot('Family_Size','Percentage',   data = family_survivors_groups)\n",
    "plt.title('Survival rate based on family size')\n",
    "plt.ylabel('Survived, %')"
   ],
   "metadata": {
    "collapsed": false,
    "pycharm": {
     "name": "#%%\n",
     "is_executing": true
    }
   }
  }
 ],
 "metadata": {
  "kernelspec": {
   "display_name": "Python 3",
   "language": "python",
   "name": "python3"
  },
  "language_info": {
   "codemirror_mode": {
    "name": "ipython",
    "version": 2
   },
   "file_extension": ".py",
   "mimetype": "text/x-python",
   "name": "python",
   "nbconvert_exporter": "python",
   "pygments_lexer": "ipython2",
   "version": "2.7.6"
  }
 },
 "nbformat": 4,
 "nbformat_minor": 0
}